{
  "cells": [
    {
      "cell_type": "markdown",
      "source": [
        "**8.Write a program to implement decision tree based ID3 algorithm.**"
      ],
      "metadata": {
        "id": "MhKqeUsU4lf3"
      }
    },
    {
      "cell_type": "markdown",
      "source": [
        "Import Play Tennis Data\n",
        "\n"
      ],
      "metadata": {
        "id": "6vp3cccG4WMv"
      }
    },
    {
      "cell_type": "code",
      "execution_count": 10,
      "metadata": {
        "id": "0Ic_tyd0CgN8",
        "colab": {
          "base_uri": "https://localhost:8080/"
        },
        "outputId": "dc7b128f-e55e-42c8-ff59-b84c3780f6a5"
      },
      "outputs": [
        {
          "output_type": "stream",
          "name": "stdout",
          "text": [
            "     Outlook Temperature Humidity    Wind Play Tennis\n",
            "0      Sunny         Hot     High    Weak          No\n",
            "1      Sunny         Hot     High  Strong          No\n",
            "2   Overcast         Hot     High    Weak         Yes\n",
            "3       Rain        Mild     High    Weak         Yes\n",
            "4       Rain        Cool   Normal    Weak         Yes\n",
            "5       Rain        Cool   Normal  Strong          No\n",
            "6   Overcast        Cool   Normal  Strong         Yes\n",
            "7      Sunny        Mild     High    Weak          No\n",
            "8      Sunny        Cool   Normal    Weak         Yes\n",
            "9       Rain        Mild   Normal    Weak         Yes\n",
            "10     Sunny        Mild   Normal  Strong         Yes\n",
            "11  Overcast        Mild     High  Strong         Yes\n",
            "12  Overcast         Hot   Normal    Weak         Yes\n",
            "13      Rain        Mild     High  Strong          No\n"
          ]
        }
      ],
      "source": [
        "#Import Play Tennis Data\n",
        "import pandas as pd\n",
        "df=pd.read_csv(\"/content/PlayTennis.csv\")\n",
        "print(df)"
      ]
    },
    {
      "cell_type": "markdown",
      "source": [
        "#Entropy of the Training Data Set"
      ],
      "metadata": {
        "id": "bBF-86Qx5SbG"
      }
    },
    {
      "cell_type": "code",
      "execution_count": 11,
      "metadata": {
        "id": "-YbNUZTTDhyc"
      },
      "outputs": [],
      "source": [
        "#Function to calculate the entropy of probaility of observations\n",
        "# -p*log2*p\n",
        "def entropy(probs):\n",
        " import math\n",
        " return sum(-prob*math.log(prob,2) for prob in probs)"
      ]
    },
    {
      "cell_type": "code",
      "execution_count": 28,
      "metadata": {
        "id": "sqTGZFKoDmaj"
      },
      "outputs": [],
      "source": [
        "#Function to calulate the entropy of the given Data Sets/List with respect to target attributes\n",
        "def entropy_of_list(a_list):\n",
        " from collections import Counter\n",
        " cnt = Counter (x for x in a_list) # Counter calculates the propotion of class\n",
        " #print(cnt)\n",
        " num_instances =len(a_list)\n",
        " probs=[x/num_instances for x in cnt.values()]\n",
        " #print(num_instances)\n",
        " #print(probs)\n",
        " return entropy(probs)\n",
        "total_entropy= entropy_of_list(df['Play Tennis'])\n",
        "#print(total_entropy)"
      ]
    },
    {
      "cell_type": "markdown",
      "source": [
        "Information Gain of Attributes"
      ],
      "metadata": {
        "id": "Nrfvt1Evbs9r"
      }
    },
    {
      "cell_type": "code",
      "execution_count": 29,
      "metadata": {
        "id": "BUmoQP4YDzj0"
      },
      "outputs": [],
      "source": [
        "def information_gain(df,split_attribute_name, target_attribute_name, trace=0):\n",
        "  df_split =df.groupby(split_attribute_name)\n",
        "  #print(df_split)\n",
        "  for name,group in df_split:\n",
        "    #print(\"Name\",name)\n",
        "    #print(\"Group\",group)\n",
        "    nobs=len(df.index)*1.0\n",
        "    #print(nobs)\n",
        "    #print(\"NOBS\",nobs)\n",
        "    df_agg_ent=df_split.agg({target_attribute_name: [entropy_of_list,lambda x: len(x)/nobs] })[target_attribute_name]\n",
        "    avg_info=sum(df_agg_ent['entropy_of_list'] * df_agg_ent['<lambda_0>'])\n",
        "    old_entropy=entropy_of_list(df[target_attribute_name])\n",
        "    return old_entropy-avg_info"
      ]
    },
    {
      "cell_type": "markdown",
      "source": [
        "*ID3* Algorithm"
      ],
      "metadata": {
        "id": "uwmIWtM8b02y"
      }
    },
    {
      "cell_type": "code",
      "execution_count": 30,
      "metadata": {
        "id": "EffXknSzEStT"
      },
      "outputs": [],
      "source": [
        "def id3DT(df, target_attribute_name, attribute_names, default_class=None):\n",
        "  from collections import Counter\n",
        "  cnt = Counter(x for x in df[target_attribute_name])\n",
        "  if len(cnt)==1:\n",
        "     return next(iter(cnt))\n",
        "  elif df.empty or (not attribute_names):\n",
        "     return default_class\n",
        "  else:\n",
        "     default_class =max(cnt.keys())\n",
        "#print(\"attributes_names:\",attribute_names)\n",
        "     gainz=[information_gain(df,attr, target_attribute_name) for attr in attribute_names]\n",
        "     index_of_max=gainz.index(max(gainz))\n",
        "     best_attr=attribute_names[index_of_max]\n",
        "     tree={best_attr:{}}\n",
        "     remaining_attributes_names=[i for i in attribute_names if i != best_attr]\n",
        "     for attr_val, data_subset in df.groupby(best_attr):\n",
        "      subtree=id3DT(data_subset,target_attribute_name,remaining_attributes_names,default_class)\n",
        "      tree[best_attr][attr_val]=subtree\n",
        "     return tree"
      ]
    },
    {
      "cell_type": "markdown",
      "source": [
        "Predicting Attributes\n"
      ],
      "metadata": {
        "id": "aEXYmpeFhrVr"
      }
    },
    {
      "cell_type": "code",
      "source": [
        "# Predicting Attributes\n",
        "attribute_names = list(df)\n",
        "print(\"List of Attributes:\", attribute_names)\n",
        "attribute_names.remove('Play Tennis') #Remove the class attribute\n",
        "print(\"Predicting Attributes:\", attribute_names)\n"
      ],
      "metadata": {
        "colab": {
          "base_uri": "https://localhost:8080/"
        },
        "id": "n9uFm_AvfQTj",
        "outputId": "718867fe-1775-4886-b931-430ffe36500e"
      },
      "execution_count": 31,
      "outputs": [
        {
          "output_type": "stream",
          "name": "stdout",
          "text": [
            "List of Attributes: ['Outlook', 'Temperature', 'Humidity', 'Wind', 'Play Tennis']\n",
            "Predicting Attributes: ['Outlook', 'Temperature', 'Humidity', 'Wind']\n"
          ]
        }
      ]
    },
    {
      "cell_type": "markdown",
      "metadata": {
        "id": "Z6CGQonSVGa_"
      },
      "source": [
        "# Run Algorithm:\n"
      ]
    },
    {
      "cell_type": "code",
      "execution_count": 32,
      "metadata": {
        "id": "iX4xHByFEmZU",
        "colab": {
          "base_uri": "https://localhost:8080/"
        },
        "outputId": "9003ff18-2611-476a-efe9-177c3ddee816"
      },
      "outputs": [
        {
          "output_type": "stream",
          "name": "stdout",
          "text": [
            "The Resultant Decision Tree is \n",
            "{'Outlook': {'Overcast': 'Yes',\n",
            "             'Rain': {'Wind': {'Strong': 'No', 'Weak': 'Yes'}},\n",
            "             'Sunny': {'Humidity': {'High': 'No', 'Normal': 'Yes'}}}}\n",
            "Best Attribute: \n",
            " Outlook\n",
            "Tree Keys\n",
            "  dict_keys(['Overcast', 'Rain', 'Sunny'])\n"
          ]
        }
      ],
      "source": [
        "from pprint import pprint\n",
        "tree= id3DT(df,'Play Tennis',attribute_names)\n",
        "print(\"The Resultant Decision Tree is \")\n",
        "pprint(tree)\n",
        "attribute=next(iter(tree))\n",
        "print(\"Best Attribute: \\n\", attribute)\n",
        "print(\"Tree Keys\\n \", tree[attribute].keys())"
      ]
    },
    {
      "cell_type": "markdown",
      "source": [
        "Classifying New Sample Data\n"
      ],
      "metadata": {
        "id": "Q85WDmADghK7"
      }
    },
    {
      "cell_type": "code",
      "execution_count": null,
      "metadata": {
        "id": "GsNrkvzoEvOT",
        "colab": {
          "base_uri": "https://localhost:8080/"
        },
        "outputId": "f30eae31-a889-48a4-f6c7-4ccb56acfa29"
      },
      "outputs": [
        {
          "output_type": "stream",
          "name": "stdout",
          "text": [
            "Key: dict_keys(['Outlook'])\n",
            "Attribute Outlook\n",
            "Instance Attribute: Sunny TreeKeys: dict_keys(['Overcast', 'Rain', 'Sunny'])\n",
            "Key: dict_keys(['Humidity'])\n",
            "Attribute Humidity\n",
            "Instance Attribute: High TreeKeys: dict_keys(['High', 'Normal'])\n",
            "Key: dict_keys(['Outlook'])\n",
            "Attribute Outlook\n",
            "Instance Attribute: Sunny TreeKeys: dict_keys(['Overcast', 'Rain', 'Sunny'])\n",
            "Key: dict_keys(['Humidity'])\n",
            "Attribute Humidity\n",
            "Instance Attribute: Normal TreeKeys: dict_keys(['High', 'Normal'])\n",
            "  Outlook Temperature Humidity  Wind Predicted\n",
            "0   Sunny        Cool     High  Weak        No\n",
            "1   Sunny        Mild   Normal  Weak       Yes\n"
          ]
        }
      ],
      "source": [
        "def classify(instance, tree, default=None):\n",
        "  attribute=next(iter(tree))\n",
        "  print(\"Key:\",tree.keys())\n",
        "  print(\"Attribute\",attribute)\n",
        "  if instance[attribute] in tree[attribute].keys():\n",
        "    result=tree[attribute][instance[attribute]]\n",
        "    print(\"Instance Attribute:\",instance[attribute], \"TreeKeys:\",tree[attribute].keys())\n",
        "    if isinstance(result,dict):\n",
        "       return classify(instance,result)\n",
        "    else:\n",
        "       return result\n",
        "  else:\n",
        "    return default\n",
        "tree1={'Outlook':['Sunny','Sunny'],\n",
        "       'Temperature':['Cool','Mild'],\n",
        "       'Humidity':['High','Normal'],\n",
        "       'Wind':['Weak','Weak']}\n",
        "df2=pd.DataFrame(tree1)\n",
        "df2['Predicted']=df2.apply(classify,axis=1, args=(tree,'No'))\n",
        "print(df2)"
      ]
    }
  ],
  "metadata": {
    "colab": {
      "provenance": []
    },
    "kernelspec": {
      "display_name": "Python 3",
      "name": "python3"
    },
    "language_info": {
      "name": "python"
    }
  },
  "nbformat": 4,
  "nbformat_minor": 0
}