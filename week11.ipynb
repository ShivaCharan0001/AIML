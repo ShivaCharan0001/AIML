{
 "cells": [
  {
   "cell_type": "code",
   "execution_count": 13,
   "id": "b41ee9b5-089d-4ce1-af30-f9135ad7b7d8",
   "metadata": {},
   "outputs": [
    {
     "name": "stdout",
     "output_type": "stream",
     "text": [
      "Input: \n",
      " [[2 9]\n",
      " [1 5]\n",
      " [3 6]]\n",
      "Actual Output: \n",
      " [[0.92]\n",
      " [0.86]\n",
      " [0.89]]\n",
      "Predicted Output: \n",
      " [[0.89360662]\n",
      " [0.87873703]\n",
      " [0.89645515]]\n"
     ]
    }
   ],
   "source": [
    "import numpy as np\n",
    "\n",
    "X = np.array(([2, 9], [1, 5], [3, 6]))\n",
    "y = np.array(([92], [86], [89]))\n",
    "y = y / 100\n",
    "\n",
    "def sigmoid(x):\n",
    "    return 1 / (1 + np.exp(-x))\n",
    "\n",
    "def derivatives_sigmoid(x):\n",
    "    return x * (1 - x)\n",
    "\n",
    "epoch = 10000\n",
    "lr = 0.1\n",
    "inputlayer_neurons = 2\n",
    "hiddenlayers_neurons = 3\n",
    "output_neurons = 1\n",
    "\n",
    "wh = np.random.uniform(size=(inputlayer_neurons, hiddenlayers_neurons))\n",
    "bias_hidden = np.random.uniform(size=(1, hiddenlayers_neurons))\n",
    "weight_hidden = np.random.uniform(size=(hiddenlayers_neurons, output_neurons))\n",
    "bias_output = np.random.uniform(size=(1, output_neurons))\n",
    "\n",
    "for i in range(epoch):\n",
    "    hinp1 = np.dot(X, wh)\n",
    "    hinp = hinp1 + bias_hidden\n",
    "    hlayer_activation = sigmoid(hinp)\n",
    "    outinp1 = np.dot(hlayer_activation, weight_hidden)\n",
    "    outinp = outinp1 + bias_output\n",
    "    output = sigmoid(outinp)\n",
    "\n",
    "    EO = y - output\n",
    "    outgrad = derivatives_sigmoid(output)\n",
    "    d_output = EO * outgrad\n",
    "\n",
    "    EH = d_output.dot(weight_hidden.T)\n",
    "    hiddengrad = derivatives_sigmoid(hlayer_activation)\n",
    "    d_hiddenlayer = EH * hiddengrad\n",
    "\n",
    "    weight_hidden += hlayer_activation.T.dot(d_output) * lr\n",
    "    bias_hidden += np.sum(d_hiddenlayer, axis=0, keepdims=True) * lr\n",
    "    wh += X.T.dot(d_hiddenlayer) * lr\n",
    "    bias_output += np.sum(d_output, axis=0, keepdims=True) * lr\n",
    "\n",
    "print(\"Input: \\n\", X)\n",
    "print(\"Actual Output: \\n\", y)\n",
    "print(\"Predicted Output: \\n\", output)\n"
   ]
  },
  {
   "cell_type": "code",
   "execution_count": null,
   "id": "bf50e6f3-b98b-4b8b-89de-8ccade666646",
   "metadata": {},
   "outputs": [],
   "source": []
  }
 ],
 "metadata": {
  "kernelspec": {
   "display_name": "Python 3 (ipykernel)",
   "language": "python",
   "name": "python3"
  },
  "language_info": {
   "codemirror_mode": {
    "name": "ipython",
    "version": 3
   },
   "file_extension": ".py",
   "mimetype": "text/x-python",
   "name": "python",
   "nbconvert_exporter": "python",
   "pygments_lexer": "ipython3",
   "version": "3.13.5"
  }
 },
 "nbformat": 4,
 "nbformat_minor": 5
}
